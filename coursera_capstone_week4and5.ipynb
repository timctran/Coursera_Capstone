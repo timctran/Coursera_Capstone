{
 "cells": [
  {
   "cell_type": "markdown",
   "metadata": {},
   "source": [
    "# Final Project\n",
    "\n",
    "In this notebook, we explore locations and their ratings"
   ]
  },
  {
   "cell_type": "markdown",
   "metadata": {},
   "source": [
    "## Load Libraries"
   ]
  },
  {
   "cell_type": "code",
   "execution_count": 2,
   "metadata": {
    "collapsed": true
   },
   "outputs": [],
   "source": [
    "# !pip install beautifulsoup4 # uncomment to install beautifulsoup4 library\n",
    "\n",
    "from bs4 import BeautifulSoup, element\n",
    "import folium\n",
    "from geopy.geocoders import Nominatim\n",
    "import json\n",
    "import matplotlib.cm as cm\n",
    "import matplotlib.colors as colors\n",
    "import numpy as np\n",
    "import urllib.request\n",
    "import pandas as pd\n",
    "pd.set_option('display.max_columns', None)\n",
    "pd.set_option('display.max_rows', None)\n",
    "import requests # library to handle requests\n",
    "from sklearn.cluster import KMeans"
   ]
  },
  {
   "cell_type": "markdown",
   "metadata": {},
   "source": [
    "## Introduction / Business Problem\n",
    "\n",
    "The client wants to start a new Taco Bell franchise and wants to choose a good location. Typically this involves determining the overlap between a franchise's target customer and the location's demographics. Instead, we can try and leverage data from existing franchise locations using Foursquare API. As a simple model, we pull the rating for franchise locations in the client's general area of interest (\"near\" Los Angeles)."
   ]
  },
  {
   "cell_type": "markdown",
   "metadata": {},
   "source": [
    "## Data\n",
    "\n",
    "The data initially consists of Taco Bell locations near the city of Los Angeles. Each entry will have the restaurant's location (latitude and longitude) as well as it's rating. We will try to predict ratings using the location data (using KNN regression). It may be necessary to also pull data from other franchises "
   ]
  },
  {
   "cell_type": "code",
   "execution_count": 19,
   "metadata": {
    "collapsed": true
   },
   "outputs": [],
   "source": [
    "# Load Credentials from a file\n",
    "with open(\"secret.json\", \"r\") as f:\n",
    "    secret = json.load(f)\n",
    "    \n",
    "CLIENT_ID = secret[\"CLIENT_ID\"]\n",
    "CLIENT_SECRET =secret[\"CLIENT_SECRET\"]\n",
    "VERSION = '20180605'\n",
    "LIMIT = 200"
   ]
  },
  {
   "cell_type": "code",
   "execution_count": 43,
   "metadata": {
    "collapsed": true
   },
   "outputs": [],
   "source": [
    "def get_nearby_venues(search_term, latitude, longitude, radius=500):\n",
    "    url = f'https://api.foursquare.com/v2/venues/explore?&client_id={CLIENT_ID}&client_secret={CLIENT_SECRET}&v={VERSION}'\n",
    "    url = url + f'&ll={latitude},{longitude}&intent=browse&radius={radius}&query={search_term}&limit={LIMIT}'\n",
    "\n",
    "    try:\n",
    "        results = requests.get(url).json()[\"response\"]['groups'][0]['items']\n",
    "    except:\n",
    "        results = []\n",
    "        \n",
    "    data = []\n",
    "    for result in results:\n",
    "        venue = result['venue']\n",
    "        \n",
    "        venue_id = venue['id']\n",
    "        name = venue['name']\n",
    "        lat = venue['location']['lat']\n",
    "        lng = venue['location']['lng']\n",
    "        city = venue['location']['city']\n",
    "        \n",
    "        data.append([venue_id, name, lat, lng, city])\n",
    "        \n",
    "    return data"
   ]
  },
  {
   "cell_type": "code",
   "execution_count": 50,
   "metadata": {},
   "outputs": [
    {
     "data": {
      "text/html": [
       "<div>\n",
       "<style scoped>\n",
       "    .dataframe tbody tr th:only-of-type {\n",
       "        vertical-align: middle;\n",
       "    }\n",
       "\n",
       "    .dataframe tbody tr th {\n",
       "        vertical-align: top;\n",
       "    }\n",
       "\n",
       "    .dataframe thead th {\n",
       "        text-align: right;\n",
       "    }\n",
       "</style>\n",
       "<table border=\"1\" class=\"dataframe\">\n",
       "  <thead>\n",
       "    <tr style=\"text-align: right;\">\n",
       "      <th></th>\n",
       "      <th>ID</th>\n",
       "      <th>Name</th>\n",
       "      <th>Latitude</th>\n",
       "      <th>Longitude</th>\n",
       "      <th>City</th>\n",
       "    </tr>\n",
       "  </thead>\n",
       "  <tbody>\n",
       "    <tr>\n",
       "      <th>0</th>\n",
       "      <td>4c192a016a21c9b60d23ca97</td>\n",
       "      <td>Taco Bell/Pizza Hut</td>\n",
       "      <td>34.036341</td>\n",
       "      <td>-118.257495</td>\n",
       "      <td>Los Angeles</td>\n",
       "    </tr>\n",
       "    <tr>\n",
       "      <th>1</th>\n",
       "      <td>4b96eef0f964a520b8ee34e3</td>\n",
       "      <td>Taco Bell/KFC</td>\n",
       "      <td>34.047415</td>\n",
       "      <td>-118.207097</td>\n",
       "      <td>Los Angeles</td>\n",
       "    </tr>\n",
       "    <tr>\n",
       "      <th>2</th>\n",
       "      <td>4bf60608004ed13a4fe141a0</td>\n",
       "      <td>Taco Bell</td>\n",
       "      <td>34.069499</td>\n",
       "      <td>-118.277301</td>\n",
       "      <td>Los Angeles</td>\n",
       "    </tr>\n",
       "    <tr>\n",
       "      <th>3</th>\n",
       "      <td>4b6b8de9f964a520990f2ce3</td>\n",
       "      <td>Taco Bell</td>\n",
       "      <td>34.079886</td>\n",
       "      <td>-118.259858</td>\n",
       "      <td>Los Angeles</td>\n",
       "    </tr>\n",
       "    <tr>\n",
       "      <th>4</th>\n",
       "      <td>4bbd3db1593fef3b134f0356</td>\n",
       "      <td>Taco Bell</td>\n",
       "      <td>34.026572</td>\n",
       "      <td>-118.276245</td>\n",
       "      <td>Los Angeles</td>\n",
       "    </tr>\n",
       "  </tbody>\n",
       "</table>\n",
       "</div>"
      ],
      "text/plain": [
       "                         ID                 Name   Latitude   Longitude  \\\n",
       "0  4c192a016a21c9b60d23ca97  Taco Bell/Pizza Hut  34.036341 -118.257495   \n",
       "1  4b96eef0f964a520b8ee34e3        Taco Bell/KFC  34.047415 -118.207097   \n",
       "2  4bf60608004ed13a4fe141a0            Taco Bell  34.069499 -118.277301   \n",
       "3  4b6b8de9f964a520990f2ce3            Taco Bell  34.079886 -118.259858   \n",
       "4  4bbd3db1593fef3b134f0356            Taco Bell  34.026572 -118.276245   \n",
       "\n",
       "          City  \n",
       "0  Los Angeles  \n",
       "1  Los Angeles  \n",
       "2  Los Angeles  \n",
       "3  Los Angeles  \n",
       "4  Los Angeles  "
      ]
     },
     "execution_count": 50,
     "metadata": {},
     "output_type": "execute_result"
    }
   ],
   "source": [
    "# Los Angeles extends 44 miles north-south and 29 miles east-west.\n",
    "# But we'll collect as many Taco Bell locations nearby as possible.\n",
    "\n",
    "LA_lat, LA_lng = (34.052235, -118.243683) # latitude and longitude of Los Angeles\n",
    "\n",
    "data = get_nearby_venues(\"Taco Bell\", LA_lat, LA_lng)\n",
    "\n",
    "df = pd.DataFrame(data, columns=[\"ID\", \"Name\", \"Latitude\", \"Longitude\", \"City\"])\n",
    "\n",
    "df.head()"
   ]
  },
  {
   "cell_type": "code",
   "execution_count": 56,
   "metadata": {
    "scrolled": false
   },
   "outputs": [],
   "source": [
    "def get_rating(venue_ID):\n",
    "    url = f'https://api.foursquare.com/v2/venues/{venue_ID}?&client_id={CLIENT_ID}&client_secret={CLIENT_SECRET}&v={VERSION}'\n",
    "\n",
    "    try:\n",
    "        rating = requests.get(url).json()[\"response\"]['venue']['rating']\n",
    "    except:\n",
    "        rating = float('nan')\n",
    "    \n",
    "    return rating"
   ]
  },
  {
   "cell_type": "code",
   "execution_count": 57,
   "metadata": {},
   "outputs": [],
   "source": [
    "df[\"rating\"] = df[\"ID\"].map(get_rating)"
   ]
  },
  {
   "cell_type": "code",
   "execution_count": 64,
   "metadata": {},
   "outputs": [
    {
     "data": {
      "text/html": [
       "<div>\n",
       "<style scoped>\n",
       "    .dataframe tbody tr th:only-of-type {\n",
       "        vertical-align: middle;\n",
       "    }\n",
       "\n",
       "    .dataframe tbody tr th {\n",
       "        vertical-align: top;\n",
       "    }\n",
       "\n",
       "    .dataframe thead th {\n",
       "        text-align: right;\n",
       "    }\n",
       "</style>\n",
       "<table border=\"1\" class=\"dataframe\">\n",
       "  <thead>\n",
       "    <tr style=\"text-align: right;\">\n",
       "      <th></th>\n",
       "      <th>ID</th>\n",
       "      <th>Name</th>\n",
       "      <th>Latitude</th>\n",
       "      <th>Longitude</th>\n",
       "      <th>City</th>\n",
       "      <th>rating</th>\n",
       "    </tr>\n",
       "  </thead>\n",
       "  <tbody>\n",
       "    <tr>\n",
       "      <th>0</th>\n",
       "      <td>4c192a016a21c9b60d23ca97</td>\n",
       "      <td>Taco Bell/Pizza Hut</td>\n",
       "      <td>34.036341</td>\n",
       "      <td>-118.257495</td>\n",
       "      <td>Los Angeles</td>\n",
       "      <td>5.7</td>\n",
       "    </tr>\n",
       "    <tr>\n",
       "      <th>1</th>\n",
       "      <td>4b96eef0f964a520b8ee34e3</td>\n",
       "      <td>Taco Bell/KFC</td>\n",
       "      <td>34.047415</td>\n",
       "      <td>-118.207097</td>\n",
       "      <td>Los Angeles</td>\n",
       "      <td>7.0</td>\n",
       "    </tr>\n",
       "    <tr>\n",
       "      <th>2</th>\n",
       "      <td>4bf60608004ed13a4fe141a0</td>\n",
       "      <td>Taco Bell</td>\n",
       "      <td>34.069499</td>\n",
       "      <td>-118.277301</td>\n",
       "      <td>Los Angeles</td>\n",
       "      <td>6.4</td>\n",
       "    </tr>\n",
       "    <tr>\n",
       "      <th>3</th>\n",
       "      <td>4b6b8de9f964a520990f2ce3</td>\n",
       "      <td>Taco Bell</td>\n",
       "      <td>34.079886</td>\n",
       "      <td>-118.259858</td>\n",
       "      <td>Los Angeles</td>\n",
       "      <td>5.6</td>\n",
       "    </tr>\n",
       "    <tr>\n",
       "      <th>4</th>\n",
       "      <td>4bbd3db1593fef3b134f0356</td>\n",
       "      <td>Taco Bell</td>\n",
       "      <td>34.026572</td>\n",
       "      <td>-118.276245</td>\n",
       "      <td>Los Angeles</td>\n",
       "      <td>6.7</td>\n",
       "    </tr>\n",
       "  </tbody>\n",
       "</table>\n",
       "</div>"
      ],
      "text/plain": [
       "                         ID                 Name   Latitude   Longitude  \\\n",
       "0  4c192a016a21c9b60d23ca97  Taco Bell/Pizza Hut  34.036341 -118.257495   \n",
       "1  4b96eef0f964a520b8ee34e3        Taco Bell/KFC  34.047415 -118.207097   \n",
       "2  4bf60608004ed13a4fe141a0            Taco Bell  34.069499 -118.277301   \n",
       "3  4b6b8de9f964a520990f2ce3            Taco Bell  34.079886 -118.259858   \n",
       "4  4bbd3db1593fef3b134f0356            Taco Bell  34.026572 -118.276245   \n",
       "\n",
       "          City  rating  \n",
       "0  Los Angeles     5.7  \n",
       "1  Los Angeles     7.0  \n",
       "2  Los Angeles     6.4  \n",
       "3  Los Angeles     5.6  \n",
       "4  Los Angeles     6.7  "
      ]
     },
     "execution_count": 64,
     "metadata": {},
     "output_type": "execute_result"
    }
   ],
   "source": [
    "df.head()"
   ]
  },
  {
   "cell_type": "code",
   "execution_count": 65,
   "metadata": {},
   "outputs": [
    {
     "data": {
      "image/png": "[encoded data removed]",
      "text/plain": [
       "<matplotlib.figure.Figure at 0x1eb89537b00>"
      ]
     },
     "metadata": {},
     "output_type": "display_data"
    }
   ],
   "source": [
    "import matplotlib.pyplot as plt\n",
    "\n",
    "df[\"rating\"].hist()\n",
    "plt.title(\"Taco Bell Foursquare Ratings\")\n",
    "plt.xlabel(\"Ratings\")\n",
    "plt.show()"
   ]
  },
  {
   "cell_type": "markdown",
   "metadata": {},
   "source": [
    "## To Be Continued..."
   ]
  },
  {
   "cell_type": "code",
   "execution_count": null,
   "metadata": {
    "collapsed": true
   },
   "outputs": [],
   "source": []
  }
 ],
 "metadata": {
  "kernelspec": {
   "display_name": "Python 3",
   "language": "python",
   "name": "python3"
  },
  "language_info": {
   "codemirror_mode": {
    "name": "ipython",
    "version": 3
   },
   "file_extension": ".py",
   "mimetype": "text/x-python",
   "name": "python",
   "nbconvert_exporter": "python",
   "pygments_lexer": "ipython3",
   "version": "3.6.1"
  }
 },
 "nbformat": 4,
 "nbformat_minor": 2
}
